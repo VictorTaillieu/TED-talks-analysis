{
 "cells": [
  {
   "cell_type": "code",
   "execution_count": 1,
   "id": "7e558a58-d034-4f0c-984f-c80176c54875",
   "metadata": {},
   "outputs": [],
   "source": [
    "import numpy as np\n",
    "import pandas as pd\n",
    "from sklearn.cluster import KMeans, AgglomerativeClustering\n",
    "from sklearn.metrics import rand_score, silhouette_score, pairwise_distances\n",
    "from sklearn.metrics.pairwise import cosine_similarity\n",
    "import matplotlib.pyplot as plt\n",
    "from tqdm import tqdm\n",
    "\n",
    "%load_ext memory_profiler"
   ]
  },
  {
   "cell_type": "markdown",
   "id": "b4c9f9fd-75d6-4580-baae-349bc9d62f8d",
   "metadata": {},
   "source": [
    "# Clustering"
   ]
  },
  {
   "cell_type": "code",
   "execution_count": 2,
   "id": "d780a71d-c6b4-4c74-a683-9330e2d8d8b3",
   "metadata": {},
   "outputs": [],
   "source": [
    "embeddings = np.load(\"../data/desc_embeddings.npy\")"
   ]
  },
  {
   "cell_type": "code",
   "execution_count": 3,
   "id": "99ce44a6-5616-436e-b448-dd49b701ddef",
   "metadata": {},
   "outputs": [
    {
     "data": {
      "text/plain": [
       "(3957, 768)"
      ]
     },
     "execution_count": 3,
     "metadata": {},
     "output_type": "execute_result"
    }
   ],
   "source": [
    "embeddings.shape"
   ]
  },
  {
   "cell_type": "markdown",
   "id": "857fc409-05b2-4afb-9ee0-72b6efc9bb28",
   "metadata": {},
   "source": [
    "## KMeans / Agglomerative"
   ]
  },
  {
   "cell_type": "code",
   "execution_count": 4,
   "id": "969a71e9-6aae-4181-9f2d-74d5abf991ba",
   "metadata": {},
   "outputs": [
    {
     "data": {
      "text/plain": [
       "array([1, 4, 4, ..., 6, 2, 7], dtype=int32)"
      ]
     },
     "execution_count": 4,
     "metadata": {},
     "output_type": "execute_result"
    }
   ],
   "source": [
    "kmeans = KMeans(n_clusters=8).fit(embeddings)\n",
    "kmeans.labels_"
   ]
  },
  {
   "cell_type": "code",
   "execution_count": 5,
   "id": "05bd60c7-a370-4cd1-abb6-2a547c85b7bc",
   "metadata": {},
   "outputs": [
    {
     "data": {
      "text/plain": [
       "array([1, 0, 0, ..., 3, 4, 2])"
      ]
     },
     "execution_count": 5,
     "metadata": {},
     "output_type": "execute_result"
    }
   ],
   "source": [
    "agglo = AgglomerativeClustering(n_clusters=8).fit(embeddings)\n",
    "agglo.labels_"
   ]
  },
  {
   "cell_type": "code",
   "execution_count": 6,
   "id": "65617a2d-31fb-4533-9355-9425a3718977",
   "metadata": {},
   "outputs": [
    {
     "data": {
      "text/plain": [
       "0.7995064741726849"
      ]
     },
     "execution_count": 6,
     "metadata": {},
     "output_type": "execute_result"
    }
   ],
   "source": [
    "rand_score(kmeans.labels_, agglo.labels_)"
   ]
  },
  {
   "cell_type": "markdown",
   "id": "46bd8b31-23c0-4d04-a679-577911b9b258",
   "metadata": {},
   "source": [
    "## Evaluate number of clusters"
   ]
  },
  {
   "cell_type": "code",
   "execution_count": 7,
   "id": "16781032-3d75-406d-8b60-32e5ef00f2bb",
   "metadata": {},
   "outputs": [
    {
     "name": "stderr",
     "output_type": "stream",
     "text": [
      "100%|███████████████████████████████████████████| 18/18 [01:16<00:00,  4.24s/it]\n"
     ]
    }
   ],
   "source": [
    "# Change distance measure\n",
    "kmeans_scores = []\n",
    "agglo_scores = []\n",
    "for k in tqdm(range(2, 20)):\n",
    "    # kmeans = KMeans(n_clusters=k).fit(embeddings)\n",
    "    agglo = AgglomerativeClustering(n_clusters=k, affinity=\"cosine\", linkage=\"average\").fit(embeddings)\n",
    "    \n",
    "    # kmeans_scores.append(silhouette_score(embeddings, kmeans.labels_))\n",
    "    agglo_scores.append(silhouette_score(embeddings, agglo.labels_, metric=\"cosine\"))"
   ]
  },
  {
   "cell_type": "code",
   "execution_count": 8,
   "id": "09c05f40-a10d-4ded-9c00-d78e89faf6be",
   "metadata": {},
   "outputs": [
    {
     "data": {
      "image/png": "[encoded data removed]",
      "text/plain": [
       "<Figure size 432x288 with 1 Axes>"
      ]
     },
     "metadata": {
      "needs_background": "light"
     },
     "output_type": "display_data"
    }
   ],
   "source": [
    "plt.plot(range(2, 20), agglo_scores)\n",
    "plt.show()"
   ]
  },
  {
   "cell_type": "markdown",
   "id": "ce5459ac-a165-4686-9db0-50827278860a",
   "metadata": {},
   "source": [
    "# Distance"
   ]
  },
  {
   "cell_type": "markdown",
   "id": "41f6c9f8-a5fc-4275-b202-9ed5beed8528",
   "metadata": {},
   "source": [
    "## Cosine distance matrix"
   ]
  },
  {
   "cell_type": "code",
   "execution_count": 9,
   "id": "2c879a79-1ee3-4f02-a863-452b454123e9",
   "metadata": {},
   "outputs": [
    {
     "data": {
      "text/plain": [
       "array([[0.        , 0.4420445 , 0.30319822, ..., 0.46510243, 0.5349331 ,\n",
       "        0.46883273],\n",
       "       [0.4420445 , 0.        , 0.42606002, ..., 0.4710933 , 0.39620996,\n",
       "        0.48555213],\n",
       "       [0.30319822, 0.42606002, 0.        , ..., 0.48039508, 0.42858094,\n",
       "        0.51548684],\n",
       "       ...,\n",
       "       [0.46510243, 0.4710933 , 0.48039508, ..., 0.        , 0.4409545 ,\n",
       "        0.52650416],\n",
       "       [0.5349331 , 0.39620996, 0.42858094, ..., 0.4409545 , 0.        ,\n",
       "        0.5030469 ],\n",
       "       [0.46883273, 0.48555213, 0.51548684, ..., 0.52650416, 0.5030469 ,\n",
       "        0.        ]], dtype=float32)"
      ]
     },
     "execution_count": 9,
     "metadata": {},
     "output_type": "execute_result"
    }
   ],
   "source": [
    "distances = pairwise_distances(embeddings, metric=\"cosine\")\n",
    "distances"
   ]
  },
  {
   "cell_type": "code",
   "execution_count": 10,
   "id": "c4c50945-973d-4a22-bef3-dec27979e40b",
   "metadata": {},
   "outputs": [
    {
     "name": "stdout",
     "output_type": "stream",
     "text": [
      "peak memory: 327.81 MiB, increment: 61.04 MiB\n"
     ]
    }
   ],
   "source": [
    "%memit pairwise_distances(embeddings, metric=\"cosine\")"
   ]
  },
  {
   "cell_type": "code",
   "execution_count": 11,
   "id": "15ba20f4-bb77-476e-9266-e89a8ee08cc2",
   "metadata": {},
   "outputs": [
    {
     "data": {
      "text/plain": [
       "array([[       inf, 0.4420445 , 0.30319822, ..., 0.46510243, 0.5349331 ,\n",
       "        0.46883273],\n",
       "       [0.4420445 ,        inf, 0.42606002, ..., 0.4710933 , 0.39620996,\n",
       "        0.48555213],\n",
       "       [0.30319822, 0.42606002,        inf, ..., 0.48039508, 0.42858094,\n",
       "        0.51548684],\n",
       "       ...,\n",
       "       [0.46510243, 0.4710933 , 0.48039508, ...,        inf, 0.4409545 ,\n",
       "        0.52650416],\n",
       "       [0.5349331 , 0.39620996, 0.42858094, ..., 0.4409545 ,        inf,\n",
       "        0.5030469 ],\n",
       "       [0.46883273, 0.48555213, 0.51548684, ..., 0.52650416, 0.5030469 ,\n",
       "               inf]], dtype=float32)"
      ]
     },
     "execution_count": 11,
     "metadata": {},
     "output_type": "execute_result"
    }
   ],
   "source": [
    "np.fill_diagonal(distances, np.inf)\n",
    "distances"
   ]
  },
  {
   "cell_type": "code",
   "execution_count": 12,
   "id": "2219ebd6-d6d5-4b7a-846b-65852ef6d0d6",
   "metadata": {},
   "outputs": [
    {
     "data": {
      "text/html": [
       "<div>\n",
       "<style scoped>\n",
       "    .dataframe tbody tr th:only-of-type {\n",
       "        vertical-align: middle;\n",
       "    }\n",
       "\n",
       "    .dataframe tbody tr th {\n",
       "        vertical-align: top;\n",
       "    }\n",
       "\n",
       "    .dataframe thead th {\n",
       "        text-align: right;\n",
       "    }\n",
       "</style>\n",
       "<table border=\"1\" class=\"dataframe\">\n",
       "  <thead>\n",
       "    <tr style=\"text-align: right;\">\n",
       "      <th></th>\n",
       "      <th>talk_id</th>\n",
       "      <th>title</th>\n",
       "      <th>speaker</th>\n",
       "      <th>occupations</th>\n",
       "      <th>about_speaker</th>\n",
       "      <th>views</th>\n",
       "      <th>recorded_date</th>\n",
       "      <th>published_date</th>\n",
       "      <th>event</th>\n",
       "      <th>available_lang</th>\n",
       "      <th>comments</th>\n",
       "      <th>duration</th>\n",
       "      <th>topics</th>\n",
       "      <th>related_talks</th>\n",
       "      <th>description</th>\n",
       "      <th>transcript</th>\n",
       "    </tr>\n",
       "  </thead>\n",
       "  <tbody>\n",
       "    <tr>\n",
       "      <th>367</th>\n",
       "      <td>451</td>\n",
       "      <td>Mosquitos, malaria and education</td>\n",
       "      <td>Bill Gates</td>\n",
       "      <td>['philanthropist']</td>\n",
       "      <td>A passionate techie and a shrewd businessman, ...</td>\n",
       "      <td>4933059</td>\n",
       "      <td>2009-02-02</td>\n",
       "      <td>2009-02-05</td>\n",
       "      <td>TED2009</td>\n",
       "      <td>['ar', 'az', 'bg', 'cs', 'de', 'el', 'en', 'es...</td>\n",
       "      <td>493</td>\n",
       "      <td>1216</td>\n",
       "      <td>['business', 'education', 'health', 'illness',...</td>\n",
       "      <td>[499, 62, 58, 1739, 1667, 1734]</td>\n",
       "      <td>Bill Gates hopes to solve some of the world's ...</td>\n",
       "      <td>I wrote a letter last week talking about the w...</td>\n",
       "    </tr>\n",
       "    <tr>\n",
       "      <th>594</th>\n",
       "      <td>767</td>\n",
       "      <td>Innovating to zero!</td>\n",
       "      <td>Bill Gates</td>\n",
       "      <td>['philanthropist']</td>\n",
       "      <td>A passionate techie and a shrewd businessman, ...</td>\n",
       "      <td>6187754</td>\n",
       "      <td>2010-02-12</td>\n",
       "      <td>2010-02-18</td>\n",
       "      <td>TED2010</td>\n",
       "      <td>['ar', 'bg', 'ca', 'cs', 'de', 'el', 'en', 'es...</td>\n",
       "      <td>1027</td>\n",
       "      <td>1669</td>\n",
       "      <td>['business', 'energy', 'global issues', 'inven...</td>\n",
       "      <td>[51, 451, 2441, 1460, 2583, 22628]</td>\n",
       "      <td>At TED2010, Bill Gates unveils his vision for ...</td>\n",
       "      <td>I'm going to talk today about energy and clima...</td>\n",
       "    </tr>\n",
       "    <tr>\n",
       "      <th>844</th>\n",
       "      <td>1087</td>\n",
       "      <td>How state budgets are breaking US schools</td>\n",
       "      <td>Bill Gates</td>\n",
       "      <td>['philanthropist']</td>\n",
       "      <td>A passionate techie and a shrewd businessman, ...</td>\n",
       "      <td>2078908</td>\n",
       "      <td>2011-03-03</td>\n",
       "      <td>2011-03-04</td>\n",
       "      <td>TED2011</td>\n",
       "      <td>['ar', 'bg', 'cs', 'da', 'de', 'el', 'en', 'es...</td>\n",
       "      <td>239</td>\n",
       "      <td>616</td>\n",
       "      <td>['aging', 'education', 'money', 'youth']</td>\n",
       "      <td>[451, 1728, 1739, 1638, 1735, 1855]</td>\n",
       "      <td>America's school systems are funded by the 50 ...</td>\n",
       "      <td>Well, this is about state budgets. This is pro...</td>\n",
       "    </tr>\n",
       "    <tr>\n",
       "      <th>1449</th>\n",
       "      <td>1739</td>\n",
       "      <td>Teachers need real feedback</td>\n",
       "      <td>Bill Gates</td>\n",
       "      <td>['philanthropist']</td>\n",
       "      <td>A passionate techie and a shrewd businessman, ...</td>\n",
       "      <td>4240980</td>\n",
       "      <td>2013-05-07</td>\n",
       "      <td>2013-05-08</td>\n",
       "      <td>TED Talks Education</td>\n",
       "      <td>['ar', 'bg', 'cs', 'de', 'el', 'en', 'es', 'et...</td>\n",
       "      <td>418</td>\n",
       "      <td>624</td>\n",
       "      <td>['culture', 'education', 'global issues', 'tea...</td>\n",
       "      <td>[1728, 1087, 1965, 1731, 1667, 3592]</td>\n",
       "      <td>Until recently, many teachers only got one wor...</td>\n",
       "      <td>Everyone needs a coach. It doesn't matter whet...</td>\n",
       "    </tr>\n",
       "    <tr>\n",
       "      <th>1888</th>\n",
       "      <td>2225</td>\n",
       "      <td>The next outbreak? We're not ready</td>\n",
       "      <td>Bill Gates</td>\n",
       "      <td>['philanthropist']</td>\n",
       "      <td>A passionate techie and a shrewd businessman, ...</td>\n",
       "      <td>33521780</td>\n",
       "      <td>2015-03-18</td>\n",
       "      <td>2015-04-03</td>\n",
       "      <td>TED2015</td>\n",
       "      <td>['ar', 'bg', 'cs', 'da', 'de', 'el', 'en', 'es...</td>\n",
       "      <td>439</td>\n",
       "      <td>512</td>\n",
       "      <td>['disaster relief', 'disease', 'ebola', 'globa...</td>\n",
       "      <td>[61301, 60872, 41456, 2177, 60084, 2425]</td>\n",
       "      <td>In 2014, the world avoided a global outbreak o...</td>\n",
       "      <td>When I was a kid, the disaster we worried abou...</td>\n",
       "    </tr>\n",
       "    <tr>\n",
       "      <th>3925</th>\n",
       "      <td>61301</td>\n",
       "      <td>How we must respond to the coronavirus pandemic</td>\n",
       "      <td>Bill Gates</td>\n",
       "      <td>['philanthropist']</td>\n",
       "      <td>A passionate techie and a shrewd businessman, ...</td>\n",
       "      <td>6144695</td>\n",
       "      <td>2020-03-24</td>\n",
       "      <td>2020-03-25</td>\n",
       "      <td>TED Connects</td>\n",
       "      <td>['en']</td>\n",
       "      <td>230</td>\n",
       "      <td>3110</td>\n",
       "      <td>['health care', 'disease', 'virus', 'medicine'...</td>\n",
       "      <td>[2225, 60872, 41456, 61303, 60873, 62149]</td>\n",
       "      <td>Philanthropist and Microsoft cofounder Bill Ga...</td>\n",
       "      <td>Whitney Pennington Rodgers: Hello and welcome ...</td>\n",
       "    </tr>\n",
       "  </tbody>\n",
       "</table>\n",
       "</div>"
      ],
      "text/plain": [
       "      talk_id                                            title     speaker  \\\n",
       "367       451                 Mosquitos, malaria and education  Bill Gates   \n",
       "594       767                              Innovating to zero!  Bill Gates   \n",
       "844      1087        How state budgets are breaking US schools  Bill Gates   \n",
       "1449     1739                      Teachers need real feedback  Bill Gates   \n",
       "1888     2225               The next outbreak? We're not ready  Bill Gates   \n",
       "3925    61301  How we must respond to the coronavirus pandemic  Bill Gates   \n",
       "\n",
       "             occupations                                      about_speaker  \\\n",
       "367   ['philanthropist']  A passionate techie and a shrewd businessman, ...   \n",
       "594   ['philanthropist']  A passionate techie and a shrewd businessman, ...   \n",
       "844   ['philanthropist']  A passionate techie and a shrewd businessman, ...   \n",
       "1449  ['philanthropist']  A passionate techie and a shrewd businessman, ...   \n",
       "1888  ['philanthropist']  A passionate techie and a shrewd businessman, ...   \n",
       "3925  ['philanthropist']  A passionate techie and a shrewd businessman, ...   \n",
       "\n",
       "         views recorded_date published_date                event  \\\n",
       "367    4933059    2009-02-02     2009-02-05              TED2009   \n",
       "594    6187754    2010-02-12     2010-02-18              TED2010   \n",
       "844    2078908    2011-03-03     2011-03-04              TED2011   \n",
       "1449   4240980    2013-05-07     2013-05-08  TED Talks Education   \n",
       "1888  33521780    2015-03-18     2015-04-03              TED2015   \n",
       "3925   6144695    2020-03-24     2020-03-25         TED Connects   \n",
       "\n",
       "                                         available_lang  comments  duration  \\\n",
       "367   ['ar', 'az', 'bg', 'cs', 'de', 'el', 'en', 'es...       493      1216   \n",
       "594   ['ar', 'bg', 'ca', 'cs', 'de', 'el', 'en', 'es...      1027      1669   \n",
       "844   ['ar', 'bg', 'cs', 'da', 'de', 'el', 'en', 'es...       239       616   \n",
       "1449  ['ar', 'bg', 'cs', 'de', 'el', 'en', 'es', 'et...       418       624   \n",
       "1888  ['ar', 'bg', 'cs', 'da', 'de', 'el', 'en', 'es...       439       512   \n",
       "3925                                             ['en']       230      3110   \n",
       "\n",
       "                                                 topics  \\\n",
       "367   ['business', 'education', 'health', 'illness',...   \n",
       "594   ['business', 'energy', 'global issues', 'inven...   \n",
       "844            ['aging', 'education', 'money', 'youth']   \n",
       "1449  ['culture', 'education', 'global issues', 'tea...   \n",
       "1888  ['disaster relief', 'disease', 'ebola', 'globa...   \n",
       "3925  ['health care', 'disease', 'virus', 'medicine'...   \n",
       "\n",
       "                                  related_talks  \\\n",
       "367             [499, 62, 58, 1739, 1667, 1734]   \n",
       "594          [51, 451, 2441, 1460, 2583, 22628]   \n",
       "844         [451, 1728, 1739, 1638, 1735, 1855]   \n",
       "1449       [1728, 1087, 1965, 1731, 1667, 3592]   \n",
       "1888   [61301, 60872, 41456, 2177, 60084, 2425]   \n",
       "3925  [2225, 60872, 41456, 61303, 60873, 62149]   \n",
       "\n",
       "                                            description  \\\n",
       "367   Bill Gates hopes to solve some of the world's ...   \n",
       "594   At TED2010, Bill Gates unveils his vision for ...   \n",
       "844   America's school systems are funded by the 50 ...   \n",
       "1449  Until recently, many teachers only got one wor...   \n",
       "1888  In 2014, the world avoided a global outbreak o...   \n",
       "3925  Philanthropist and Microsoft cofounder Bill Ga...   \n",
       "\n",
       "                                             transcript  \n",
       "367   I wrote a letter last week talking about the w...  \n",
       "594   I'm going to talk today about energy and clima...  \n",
       "844   Well, this is about state budgets. This is pro...  \n",
       "1449  Everyone needs a coach. It doesn't matter whet...  \n",
       "1888  When I was a kid, the disaster we worried abou...  \n",
       "3925  Whitney Pennington Rodgers: Hello and welcome ...  "
      ]
     },
     "execution_count": 12,
     "metadata": {},
     "output_type": "execute_result"
    }
   ],
   "source": [
    "df = pd.read_csv(\"../data/ted_talks_preprocessed.csv\")\n",
    "df[df.speaker == \"Bill Gates\"]"
   ]
  },
  {
   "cell_type": "markdown",
   "id": "29f65f53-0a3e-4d58-982a-3913b74a1728",
   "metadata": {},
   "source": [
    "## Similar talks based on the description"
   ]
  },
  {
   "cell_type": "code",
   "execution_count": 13,
   "id": "ade3f1bb-0890-4ab2-8967-c31a891a7bfb",
   "metadata": {},
   "outputs": [
    {
     "data": {
      "text/plain": [
       "array([3953, 3935, 3840, 3939, 3927])"
      ]
     },
     "execution_count": 13,
     "metadata": {},
     "output_type": "execute_result"
    }
   ],
   "source": [
    "cum_distances = (distances[1888] + distances[3925]) / 2\n",
    "np.argsort(cum_distances)[:5]"
   ]
  },
  {
   "cell_type": "code",
   "execution_count": 14,
   "id": "1d2ee7d4-59a8-44fa-abad-9c3d356f6b7d",
   "metadata": {},
   "outputs": [
    {
     "data": {
      "text/plain": [
       "talk_id                                                       62748\n",
       "title                  A global pandemic calls for global solutions\n",
       "speaker                                             Larry Brilliant\n",
       "occupations                    ['epidemiologist', 'philanthropist']\n",
       "about_speaker     TED Prize winner Larry Brilliant has spent his...\n",
       "views                                                        760969\n",
       "recorded_date                                            2020-04-22\n",
       "published_date                                           2020-04-24\n",
       "event                                          TED2020: The Prequel\n",
       "available_lang                          ['en', 'es', 'it', 'pt-br']\n",
       "comments                                                         37\n",
       "duration                                                        941\n",
       "topics            ['coronavirus', 'pandemic', 'epidemiology', 'v...\n",
       "related_talks                 [58, 61303, 62149, 60084, 2185, 2317]\n",
       "description       Examining the facts and figures of the coronav...\n",
       "transcript        Helen Walters: So, Chris, who's up first? Chri...\n",
       "Name: 3953, dtype: object"
      ]
     },
     "execution_count": 14,
     "metadata": {},
     "output_type": "execute_result"
    }
   ],
   "source": [
    "df.iloc[3953]"
   ]
  },
  {
   "cell_type": "code",
   "execution_count": null,
   "id": "15b9fee3-6bfb-4a8d-b82a-9e20c97f26a4",
   "metadata": {},
   "outputs": [],
   "source": []
  }
 ],
 "metadata": {
  "kernelspec": {
   "display_name": "Python 3 (ipykernel)",
   "language": "python",
   "name": "python3"
  },
  "language_info": {
   "codemirror_mode": {
    "name": "ipython",
    "version": 3
   },
   "file_extension": ".py",
   "mimetype": "text/x-python",
   "name": "python",
   "nbconvert_exporter": "python",
   "pygments_lexer": "ipython3",
   "version": "3.10.2"
  }
 },
 "nbformat": 4,
 "nbformat_minor": 5
}
