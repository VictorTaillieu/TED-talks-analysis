{
 "cells": [
  {
   "cell_type": "code",
   "execution_count": 141,
   "metadata": {},
   "outputs": [],
   "source": [
    "import pandas as pd\n",
    "import numpy as np\n",
    "\n",
    "from sklearn.metrics import pairwise_distances\n",
    "from sklearn.preprocessing import MinMaxScaler\n",
    "from ast import literal_eval\n",
    "from scipy.spatial import distance"
   ]
  },
  {
   "cell_type": "code",
   "execution_count": 142,
   "metadata": {},
   "outputs": [],
   "source": [
    "df_transformed = pd.read_csv(\"../data/ted_talks_transformed.csv\")"
   ]
  },
  {
   "cell_type": "code",
   "execution_count": 143,
   "metadata": {},
   "outputs": [],
   "source": [
    "viewed = [367, 844, 1449]"
   ]
  },
  {
   "cell_type": "code",
   "execution_count": 144,
   "metadata": {},
   "outputs": [],
   "source": [
    "def cum_dist(dist_matrix):\n",
    "    return np.mean([dist_matrix[i] for i in viewed], axis=0)"
   ]
  },
  {
   "cell_type": "markdown",
   "metadata": {},
   "source": [
    "# Descriptions"
   ]
  },
  {
   "cell_type": "code",
   "execution_count": 145,
   "metadata": {},
   "outputs": [],
   "source": [
    "desc_embeds = np.load(\"../data/embeddings/desc_embeddings.npy\")\n",
    "\n",
    "desc_dist = pairwise_distances(desc_embeds, metric=\"cosine\")\n",
    "np.fill_diagonal(desc_dist, np.max(desc_dist))"
   ]
  },
  {
   "cell_type": "code",
   "execution_count": 146,
   "metadata": {},
   "outputs": [
    {
     "data": {
      "text/plain": [
       "array([0.32796997, 0.49536842, 0.31775838, ..., 0.45223674, 0.4681971 ,\n",
       "       0.51917017], dtype=float32)"
      ]
     },
     "execution_count": 146,
     "metadata": {},
     "output_type": "execute_result"
    }
   ],
   "source": [
    "desc_cum_dist = cum_dist(desc_dist)\n",
    "desc_cum_dist"
   ]
  },
  {
   "cell_type": "markdown",
   "metadata": {},
   "source": [
    "# About speaker"
   ]
  },
  {
   "cell_type": "code",
   "execution_count": 147,
   "metadata": {},
   "outputs": [],
   "source": [
    "speak_embeds = np.load(\"../data/embeddings/speak_embeddings.npy\")\n",
    "\n",
    "speak_dist = pairwise_distances(speak_embeds, metric=\"cosine\")\n",
    "np.fill_diagonal(speak_dist, np.max(speak_dist))"
   ]
  },
  {
   "cell_type": "code",
   "execution_count": 148,
   "metadata": {},
   "outputs": [
    {
     "data": {
      "text/plain": [
       "array([0.32948244, 0.39329743, 0.44754088, ..., 1.1051987 , 1.1051987 ,\n",
       "       1.1051987 ], dtype=float32)"
      ]
     },
     "execution_count": 148,
     "metadata": {},
     "output_type": "execute_result"
    }
   ],
   "source": [
    "speak_cum_dist = cum_dist(speak_dist)\n",
    "speak_cum_dist"
   ]
  },
  {
   "cell_type": "markdown",
   "metadata": {},
   "source": [
    "# General infos"
   ]
  },
  {
   "cell_type": "code",
   "execution_count": 149,
   "metadata": {},
   "outputs": [],
   "source": [
    "scaler  = MinMaxScaler()"
   ]
  },
  {
   "cell_type": "code",
   "execution_count": 150,
   "metadata": {},
   "outputs": [],
   "source": [
    "def scale_data(column):\n",
    "    reshaped_values = df_transformed[column].values.reshape(-1, 1)\n",
    "    return scaler.fit_transform(reshaped_values).T[0]"
   ]
  },
  {
   "cell_type": "code",
   "execution_count": 151,
   "metadata": {},
   "outputs": [],
   "source": [
    "gen_infos = np.array([\n",
    "    scale_data(\"views\"),\n",
    "    scale_data(\"comments\"),\n",
    "    scale_data(\"duration\"),\n",
    "    scale_data(\"discussion_rate\")\n",
    "]).T"
   ]
  },
  {
   "cell_type": "code",
   "execution_count": 152,
   "metadata": {},
   "outputs": [],
   "source": [
    "gen_dist = pairwise_distances(gen_infos, metric=\"euclidean\")\n",
    "np.fill_diagonal(gen_dist, np.max(gen_dist))"
   ]
  },
  {
   "cell_type": "code",
   "execution_count": 153,
   "metadata": {},
   "outputs": [
    {
     "data": {
      "text/plain": [
       "array([0.51707142, 0.53921797, 0.52560978, ..., 0.61999207, 0.63470471,\n",
       "       0.63162485])"
      ]
     },
     "execution_count": 153,
     "metadata": {},
     "output_type": "execute_result"
    }
   ],
   "source": [
    "gen_cum_dist = cum_dist(gen_dist)\n",
    "gen_cum_dist"
   ]
  },
  {
   "cell_type": "markdown",
   "metadata": {},
   "source": [
    "# Related distance"
   ]
  },
  {
   "cell_type": "code",
   "execution_count": 41,
   "metadata": {},
   "outputs": [
    {
     "data": {
      "text/plain": [
       "array([[  0, 105, 109, ..., 122,  52, 495],\n",
       "       [ 85,   0, 460, ..., 148, 886, 638],\n",
       "       [158, 151,   0, ..., 656,   7, 515],\n",
       "       ...,\n",
       "       [ 24,  27, 121, ...,   0, 603, 838],\n",
       "       [ 89,  44, 464, ..., 152,   0, 792],\n",
       "       [207,   7, 183, ..., 846, 595,   0]])"
      ]
     },
     "execution_count": 154,
     "metadata": {},
     "output_type": "execute_result"
    }
   ],
   "source": [
    "topic_dist = np.load(\"../data/embeddings/related_distance.npy\")\n",
    "topic_dist"
   ]
  },
  {
   "cell_type": "code",
   "execution_count": 155,
   "metadata": {},
   "outputs": [
    {
     "data": {
      "text/plain": [
       "array([ 60. ,  31.5, 282.5, ..., 422.5, 352.5, 554. ])"
      ]
     },
     "execution_count": 155,
     "metadata": {},
     "output_type": "execute_result"
    }
   ],
   "source": [
    "topic_cum_dist = cum_dist(topic_dist)\n",
    "topic_cum_dist"
   ]
  },
  {
   "cell_type": "markdown",
   "metadata": {},
   "source": [
    "# Sentiments"
   ]
  },
  {
   "cell_type": "code",
   "execution_count": 156,
   "metadata": {},
   "outputs": [
    {
     "data": {
      "text/plain": [
       "array([0.05232382, 0.03262515, 0.05669726, ..., 0.07312248, 0.03262515,\n",
       "       0.03351366])"
      ]
     },
     "execution_count": 156,
     "metadata": {},
     "output_type": "execute_result"
    }
   ],
   "source": [
    "sent_cum_dist = np.mean([abs(df_transformed.sentiment[i] - df_transformed.sentiment) for i in viewed], axis=0)\n",
    "sent_cum_dist"
   ]
  },
  {
   "cell_type": "markdown",
   "metadata": {},
   "source": [
    "# Dates"
   ]
  },
  {
   "cell_type": "code",
   "execution_count": 157,
   "metadata": {},
   "outputs": [
    {
     "data": {
      "text/plain": [
       "array([3.649968e+08, 3.650832e+08, 3.846960e+08, ..., 8.212320e+07,\n",
       "       8.220960e+07, 8.238240e+07])"
      ]
     },
     "execution_count": 157,
     "metadata": {},
     "output_type": "execute_result"
    }
   ],
   "source": [
    "date_cum_dist = np.mean([abs(df_transformed.recorded_date[i] - df_transformed.recorded_date) for i in viewed], axis=0)\n",
    "date_cum_dist"
   ]
  },
  {
   "cell_type": "markdown",
   "metadata": {},
   "source": [
    "# Topics"
   ]
  },
  {
   "cell_type": "code",
   "execution_count": 158,
   "metadata": {},
   "outputs": [],
   "source": [
    "def boolean_df(item_lists, unique_items):\n",
    "    bool_dict = {}\n",
    "    \n",
    "    for item in unique_items:\n",
    "        bool_dict[item] = item_lists.apply(lambda x: item in x)\n",
    "    \n",
    "    return pd.DataFrame(bool_dict)"
   ]
  },
  {
   "cell_type": "code",
   "execution_count": 159,
   "metadata": {},
   "outputs": [],
   "source": [
    "df_transformed.topics = df_transformed.topics.apply(lambda x: literal_eval(x))\n",
    "one_hot_topics = boolean_df(df_transformed.topics, df_transformed.topics.explode().unique()).astype(int)"
   ]
  },
  {
   "cell_type": "code",
   "execution_count": 160,
   "metadata": {},
   "outputs": [],
   "source": [
    "jacc_topic_dist = distance.squareform(distance.pdist(one_hot_topics,\"jaccard\"))"
   ]
  },
  {
   "cell_type": "code",
   "execution_count": 161,
   "metadata": {},
   "outputs": [],
   "source": [
    "np.fill_diagonal(jacc_topic_dist, np.max(jacc_topic_dist))\n",
    "jacc_topic_cum_dist = cum_dist(jacc_topic_dist)"
   ]
  },
  {
   "cell_type": "markdown",
   "metadata": {},
   "source": [
    "# Combining distances"
   ]
  },
  {
   "cell_type": "markdown",
   "metadata": {},
   "source": [
    "## Scale distances"
   ]
  },
  {
   "cell_type": "code",
   "execution_count": 162,
   "metadata": {},
   "outputs": [],
   "source": [
    "def scale_distances(dist_matrix):\n",
    "    reshaped_values = dist_matrix.reshape(-1, 1)\n",
    "    return scaler.fit_transform(reshaped_values).T[0]"
   ]
  },
  {
   "cell_type": "code",
   "execution_count": 163,
   "metadata": {},
   "outputs": [],
   "source": [
    "combined_dist_matrix = np.array([\n",
    "    scale_distances(dist_matrix) for dist_matrix in [\n",
    "        desc_cum_dist,\n",
    "        speak_cum_dist,\n",
    "        gen_cum_dist,\n",
    "        topic_cum_dist,\n",
    "        sent_cum_dist,\n",
    "        date_cum_dist,\n",
    "        jacc_topic_cum_dist\n",
    "    ]\n",
    "])"
   ]
  },
  {
   "cell_type": "code",
   "execution_count": 164,
   "metadata": {},
   "outputs": [
    {
     "data": {
      "text/plain": [
       "(7, 3957)"
      ]
     },
     "execution_count": 164,
     "metadata": {},
     "output_type": "execute_result"
    }
   ],
   "source": [
    "combined_dist_matrix.shape"
   ]
  },
  {
   "cell_type": "markdown",
   "metadata": {},
   "source": [
    "## Weights"
   ]
  },
  {
   "cell_type": "code",
   "execution_count": 52,
   "metadata": {},
   "outputs": [],
   "source": [
    "weights = {\n",
    "    \"description\": 1,\n",
    "    \"about_speaker\": 1,\n",
    "    \"general_infos\": 1,\n",
    "    \"sentiment\": 1,\n",
    "    \"related_distance\": 1,\n",
    "    \"dates\": 1,\n",
    "    \"topics_names\": 1\n",
    "\n",
    "}\n",
    "\n",
    "weights = np.array(list(weights.values())).reshape(-1, 1)"
   ]
  },
  {
   "cell_type": "markdown",
   "metadata": {},
   "source": [
    "## Recommend talks"
   ]
  },
  {
   "cell_type": "code",
   "execution_count": 166,
   "metadata": {},
   "outputs": [],
   "source": [
    "global_distance = np.mean(weights * combined_dist_matrix, axis=0)"
   ]
  },
  {
   "cell_type": "code",
   "metadata": {
    "pycharm": {
     "name": "#%%\n"
    }
   },
   "outputs": [
    {
     "data": {
      "text/plain": [
       "array([3953,  367,  594, 3950, 2555])"
      ]
     },
     "execution_count": 23,
     "metadata": {},
     "output_type": "execute_result"
    }
   ],
   "source": [
    "np.argsort(global_distance)[:5]"
   ]
  },
  {
   "cell_type": "code",
   "execution_count": null,
   "metadata": {},
   "outputs": [],
   "source": []
  }
 ],
 "metadata": {
  "interpreter": {
   "hash": "08a9ee97743bb653a404af1b6226ec1624b1b637fec457561ab3513b491b6cab"
  },
  "kernelspec": {
   "display_name": "Python 3 (ipykernel)",
   "language": "python",
   "name": "python3"
  },
  "language_info": {
   "codemirror_mode": {
    "name": "ipython",
    "version": 3
   },
   "file_extension": ".py",
   "mimetype": "text/x-python",
   "name": "python",
   "nbconvert_exporter": "python",
   "pygments_lexer": "ipython3",
   "version": "3.9.10"
  }
 },
 "nbformat": 4,
 "nbformat_minor": 2
}
